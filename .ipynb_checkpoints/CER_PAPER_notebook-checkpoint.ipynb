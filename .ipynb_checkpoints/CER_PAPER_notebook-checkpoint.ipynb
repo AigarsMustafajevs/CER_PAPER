{
 "cells": [
  {
   "cell_type": "markdown",
   "metadata": {},
   "source": [
    "# Ceramics"
   ]
  },
  {
   "cell_type": "code",
   "execution_count": 134,
   "metadata": {},
   "outputs": [],
   "source": [
    "import numpy as np\n",
    "import matplotlib.pyplot as plt\n",
    "import pandas as pd\n",
    "from scipy.cluster.vq import whiten #datu standartizēšanas funkcija\n",
    "from scipy.cluster.hierarchy import fcluster, linkage, dendrogram \n",
    "#linkage aprēķinās distances\n",
    "#fcluster izveidos klasterus\n",
    "#dendrogram uzzīmēs dendrogrammu\n",
    "# from scipy.spatial.distance import pdist\n",
    "\n",
    "# import sklearn.cluster\n",
    "# from sklearn.cluster import AgglomerativeClustering\n",
    "# import sklearn.metrics as sm"
   ]
  },
  {
   "cell_type": "code",
   "execution_count": 107,
   "metadata": {},
   "outputs": [],
   "source": [
    "#read exel\n",
    "df = pd.read_excel(\"Keramika_merijumi_jauninajumi.xlsx\", \n",
    "                   sheet_name = 1)"
   ]
  },
  {
   "cell_type": "code",
   "execution_count": 173,
   "metadata": {},
   "outputs": [
    {
     "data": {
      "text/html": [
       "<div>\n",
       "<style scoped>\n",
       "    .dataframe tbody tr th:only-of-type {\n",
       "        vertical-align: middle;\n",
       "    }\n",
       "\n",
       "    .dataframe tbody tr th {\n",
       "        vertical-align: top;\n",
       "    }\n",
       "\n",
       "    .dataframe thead th {\n",
       "        text-align: right;\n",
       "    }\n",
       "</style>\n",
       "<table border=\"1\" class=\"dataframe\">\n",
       "  <thead>\n",
       "    <tr style=\"text-align: right;\">\n",
       "      <th></th>\n",
       "      <th>Unnamed: 0</th>\n",
       "      <th>SiO2</th>\n",
       "      <th>Al2O3</th>\n",
       "      <th>Fe2O3</th>\n",
       "      <th>K2O</th>\n",
       "      <th>P2O5</th>\n",
       "      <th>MgO</th>\n",
       "      <th>MnO</th>\n",
       "      <th>CaO</th>\n",
       "      <th>Na2O</th>\n",
       "      <th>Cl</th>\n",
       "      <th>TiO</th>\n",
       "      <th>BaO</th>\n",
       "      <th>ZnO</th>\n",
       "      <th>SO3</th>\n",
       "    </tr>\n",
       "  </thead>\n",
       "  <tbody>\n",
       "    <tr>\n",
       "      <th>0</th>\n",
       "      <td>AS4</td>\n",
       "      <td>56.39</td>\n",
       "      <td>18.08</td>\n",
       "      <td>8.15</td>\n",
       "      <td>5.3</td>\n",
       "      <td>1.22</td>\n",
       "      <td>3.56</td>\n",
       "      <td>0.0</td>\n",
       "      <td>3.21</td>\n",
       "      <td>2.42</td>\n",
       "      <td>0.13</td>\n",
       "      <td>0.86</td>\n",
       "      <td>0.23</td>\n",
       "      <td>0.08</td>\n",
       "      <td>0.25</td>\n",
       "    </tr>\n",
       "  </tbody>\n",
       "</table>\n",
       "</div>"
      ],
      "text/plain": [
       "  Unnamed: 0   SiO2  Al2O3  Fe2O3  K2O  P2O5   MgO  MnO   CaO  Na2O    Cl  \\\n",
       "0        AS4  56.39  18.08   8.15  5.3  1.22  3.56  0.0  3.21  2.42  0.13   \n",
       "\n",
       "    TiO   BaO   ZnO   SO3  \n",
       "0  0.86  0.23  0.08  0.25  "
      ]
     },
     "execution_count": 173,
     "metadata": {},
     "output_type": "execute_result"
    }
   ],
   "source": [
    "df.head(1)"
   ]
  },
  {
   "cell_type": "code",
   "execution_count": 174,
   "metadata": {},
   "outputs": [
    {
     "name": "stdout",
     "output_type": "stream",
     "text": [
      "  Unnamed: 0   SiO2  Al2O3  Fe2O3   K2O   P2O5   MgO   MnO   CaO  Na2O    Cl  \\\n",
      "0        AS4  56.39  18.08   8.15  5.30   1.22  3.56  0.00  3.21  2.42  0.13   \n",
      "1        AS5  37.70  13.45  13.56  6.28  11.76  3.93  0.06  9.66  0.84  0.18   \n",
      "\n",
      "    TiO   BaO   ZnO   SO3  \n",
      "0  0.86  0.23  0.08  0.25  \n",
      "1  0.74  0.38  0.15  0.67   <class 'pandas.core.frame.DataFrame'>\n"
     ]
    }
   ],
   "source": [
    "df = pd.DataFrame(df)\n",
    "\n",
    "print(df.head(2), type(df))"
   ]
  },
  {
   "cell_type": "code",
   "execution_count": 252,
   "metadata": {
    "scrolled": true
   },
   "outputs": [
    {
     "data": {
      "text/html": [
       "<div>\n",
       "<style scoped>\n",
       "    .dataframe tbody tr th:only-of-type {\n",
       "        vertical-align: middle;\n",
       "    }\n",
       "\n",
       "    .dataframe tbody tr th {\n",
       "        vertical-align: top;\n",
       "    }\n",
       "\n",
       "    .dataframe thead th {\n",
       "        text-align: right;\n",
       "    }\n",
       "</style>\n",
       "<table border=\"1\" class=\"dataframe\">\n",
       "  <thead>\n",
       "    <tr style=\"text-align: right;\">\n",
       "      <th></th>\n",
       "      <th>SiO2</th>\n",
       "      <th>Al2O3</th>\n",
       "      <th>Fe2O3</th>\n",
       "      <th>K2O</th>\n",
       "      <th>P2O5</th>\n",
       "      <th>MgO</th>\n",
       "      <th>MnO</th>\n",
       "      <th>CaO</th>\n",
       "      <th>Na2O</th>\n",
       "      <th>Cl</th>\n",
       "      <th>TiO</th>\n",
       "      <th>BaO</th>\n",
       "      <th>ZnO</th>\n",
       "      <th>SO3</th>\n",
       "    </tr>\n",
       "  </thead>\n",
       "  <tbody>\n",
       "    <tr>\n",
       "      <th>count</th>\n",
       "      <td>65.000000</td>\n",
       "      <td>65.000000</td>\n",
       "      <td>65.000000</td>\n",
       "      <td>65.000000</td>\n",
       "      <td>65.000000</td>\n",
       "      <td>65.00000</td>\n",
       "      <td>65.000000</td>\n",
       "      <td>65.000000</td>\n",
       "      <td>65.000000</td>\n",
       "      <td>65.000000</td>\n",
       "      <td>65.000000</td>\n",
       "      <td>65.000000</td>\n",
       "      <td>65.000000</td>\n",
       "      <td>65.000000</td>\n",
       "    </tr>\n",
       "    <tr>\n",
       "      <th>mean</th>\n",
       "      <td>52.430462</td>\n",
       "      <td>16.423538</td>\n",
       "      <td>10.323692</td>\n",
       "      <td>5.244308</td>\n",
       "      <td>4.727538</td>\n",
       "      <td>2.67800</td>\n",
       "      <td>0.286308</td>\n",
       "      <td>4.787385</td>\n",
       "      <td>0.629846</td>\n",
       "      <td>0.103846</td>\n",
       "      <td>0.881692</td>\n",
       "      <td>0.210154</td>\n",
       "      <td>0.094308</td>\n",
       "      <td>0.363077</td>\n",
       "    </tr>\n",
       "    <tr>\n",
       "      <th>std</th>\n",
       "      <td>6.737546</td>\n",
       "      <td>3.262234</td>\n",
       "      <td>2.683848</td>\n",
       "      <td>0.872645</td>\n",
       "      <td>3.696142</td>\n",
       "      <td>0.72102</td>\n",
       "      <td>0.306587</td>\n",
       "      <td>4.155037</td>\n",
       "      <td>0.559909</td>\n",
       "      <td>0.090462</td>\n",
       "      <td>0.178689</td>\n",
       "      <td>0.090821</td>\n",
       "      <td>0.044615</td>\n",
       "      <td>0.289147</td>\n",
       "    </tr>\n",
       "    <tr>\n",
       "      <th>min</th>\n",
       "      <td>34.510000</td>\n",
       "      <td>10.550000</td>\n",
       "      <td>4.530000</td>\n",
       "      <td>3.050000</td>\n",
       "      <td>0.870000</td>\n",
       "      <td>1.19000</td>\n",
       "      <td>0.000000</td>\n",
       "      <td>0.000000</td>\n",
       "      <td>0.000000</td>\n",
       "      <td>0.000000</td>\n",
       "      <td>0.540000</td>\n",
       "      <td>0.050000</td>\n",
       "      <td>0.010000</td>\n",
       "      <td>0.000000</td>\n",
       "    </tr>\n",
       "    <tr>\n",
       "      <th>25%</th>\n",
       "      <td>48.510000</td>\n",
       "      <td>13.650000</td>\n",
       "      <td>8.950000</td>\n",
       "      <td>4.500000</td>\n",
       "      <td>1.690000</td>\n",
       "      <td>2.13000</td>\n",
       "      <td>0.060000</td>\n",
       "      <td>1.630000</td>\n",
       "      <td>0.310000</td>\n",
       "      <td>0.050000</td>\n",
       "      <td>0.770000</td>\n",
       "      <td>0.150000</td>\n",
       "      <td>0.060000</td>\n",
       "      <td>0.150000</td>\n",
       "    </tr>\n",
       "    <tr>\n",
       "      <th>50%</th>\n",
       "      <td>53.430000</td>\n",
       "      <td>16.730000</td>\n",
       "      <td>10.470000</td>\n",
       "      <td>5.300000</td>\n",
       "      <td>3.310000</td>\n",
       "      <td>2.65000</td>\n",
       "      <td>0.210000</td>\n",
       "      <td>3.430000</td>\n",
       "      <td>0.580000</td>\n",
       "      <td>0.080000</td>\n",
       "      <td>0.860000</td>\n",
       "      <td>0.200000</td>\n",
       "      <td>0.100000</td>\n",
       "      <td>0.290000</td>\n",
       "    </tr>\n",
       "    <tr>\n",
       "      <th>75%</th>\n",
       "      <td>56.730000</td>\n",
       "      <td>18.480000</td>\n",
       "      <td>11.820000</td>\n",
       "      <td>5.750000</td>\n",
       "      <td>6.920000</td>\n",
       "      <td>3.16000</td>\n",
       "      <td>0.370000</td>\n",
       "      <td>7.490000</td>\n",
       "      <td>0.810000</td>\n",
       "      <td>0.140000</td>\n",
       "      <td>0.980000</td>\n",
       "      <td>0.260000</td>\n",
       "      <td>0.120000</td>\n",
       "      <td>0.480000</td>\n",
       "    </tr>\n",
       "    <tr>\n",
       "      <th>max</th>\n",
       "      <td>66.200000</td>\n",
       "      <td>24.910000</td>\n",
       "      <td>18.960000</td>\n",
       "      <td>6.970000</td>\n",
       "      <td>15.690000</td>\n",
       "      <td>4.54000</td>\n",
       "      <td>1.480000</td>\n",
       "      <td>19.700000</td>\n",
       "      <td>3.480000</td>\n",
       "      <td>0.400000</td>\n",
       "      <td>1.560000</td>\n",
       "      <td>0.520000</td>\n",
       "      <td>0.260000</td>\n",
       "      <td>1.310000</td>\n",
       "    </tr>\n",
       "  </tbody>\n",
       "</table>\n",
       "</div>"
      ],
      "text/plain": [
       "            SiO2      Al2O3      Fe2O3        K2O       P2O5       MgO  \\\n",
       "count  65.000000  65.000000  65.000000  65.000000  65.000000  65.00000   \n",
       "mean   52.430462  16.423538  10.323692   5.244308   4.727538   2.67800   \n",
       "std     6.737546   3.262234   2.683848   0.872645   3.696142   0.72102   \n",
       "min    34.510000  10.550000   4.530000   3.050000   0.870000   1.19000   \n",
       "25%    48.510000  13.650000   8.950000   4.500000   1.690000   2.13000   \n",
       "50%    53.430000  16.730000  10.470000   5.300000   3.310000   2.65000   \n",
       "75%    56.730000  18.480000  11.820000   5.750000   6.920000   3.16000   \n",
       "max    66.200000  24.910000  18.960000   6.970000  15.690000   4.54000   \n",
       "\n",
       "             MnO        CaO       Na2O         Cl        TiO        BaO  \\\n",
       "count  65.000000  65.000000  65.000000  65.000000  65.000000  65.000000   \n",
       "mean    0.286308   4.787385   0.629846   0.103846   0.881692   0.210154   \n",
       "std     0.306587   4.155037   0.559909   0.090462   0.178689   0.090821   \n",
       "min     0.000000   0.000000   0.000000   0.000000   0.540000   0.050000   \n",
       "25%     0.060000   1.630000   0.310000   0.050000   0.770000   0.150000   \n",
       "50%     0.210000   3.430000   0.580000   0.080000   0.860000   0.200000   \n",
       "75%     0.370000   7.490000   0.810000   0.140000   0.980000   0.260000   \n",
       "max     1.480000  19.700000   3.480000   0.400000   1.560000   0.520000   \n",
       "\n",
       "             ZnO        SO3  \n",
       "count  65.000000  65.000000  \n",
       "mean    0.094308   0.363077  \n",
       "std     0.044615   0.289147  \n",
       "min     0.010000   0.000000  \n",
       "25%     0.060000   0.150000  \n",
       "50%     0.100000   0.290000  \n",
       "75%     0.120000   0.480000  \n",
       "max     0.260000   1.310000  "
      ]
     },
     "execution_count": 252,
     "metadata": {},
     "output_type": "execute_result"
    }
   ],
   "source": [
    "df.describe()\n",
    "\n",
    "# list(df.columns)"
   ]
  },
  {
   "cell_type": "code",
   "execution_count": 111,
   "metadata": {},
   "outputs": [],
   "source": [
    "#standartize values\n",
    "df_w = whiten(df.loc[:,['SiO2','Al2O3','Fe2O3','K2O','P2O5','MgO','MnO','CaO','Na2O','Cl','TiO','BaO','ZnO','SO3']])"
   ]
  },
  {
   "cell_type": "code",
   "execution_count": 254,
   "metadata": {
    "scrolled": true
   },
   "outputs": [
    {
     "name": "stdout",
     "output_type": "stream",
     "text": [
      "              0          1          2          3          4          5   \\\n",
      "count  65.000000  65.000000  65.000000  65.000000  65.000000  65.000000   \n",
      "mean    7.842393   5.073624   3.876536   6.056438   1.289000   3.743089   \n",
      "std     1.007782   1.007782   1.007782   1.007782   1.007782   1.007782   \n",
      "min     5.161904   3.259147   1.701011   3.522321   0.237212   1.663284   \n",
      "25%     7.255982   4.216811   3.360716   5.196867   0.460792   2.977139   \n",
      "50%     7.991901   5.168297   3.931475   6.120755   0.902497   3.703953   \n",
      "75%     8.485506   5.708914   4.438398   6.640441   1.886792   4.416789   \n",
      "max     9.902000   7.695295   7.119461   8.049370   4.278002   6.345640   \n",
      "\n",
      "              6          7          8          9          10         11  \\\n",
      "count  65.000000  65.000000  65.000000  65.000000  65.000000  65.000000   \n",
      "mean    0.941122   1.161155   1.133662   1.156884   4.972616   2.331948   \n",
      "std     1.007782   1.007782   1.007782   1.007782   1.007782   1.007782   \n",
      "min     0.000000   0.000000   0.000000   0.000000   3.045521   0.554819   \n",
      "25%     0.197226   0.395348   0.557970   0.557018   4.342688   1.664458   \n",
      "50%     0.690291   0.831928   1.043944   0.891229   4.850275   2.219277   \n",
      "75%     1.216227   1.816660   1.457921   1.559651   5.527057   2.885060   \n",
      "max     4.864910   4.778131   6.263661   4.456146   8.798173   5.770120   \n",
      "\n",
      "              12         13  \n",
      "count  65.000000  65.000000  \n",
      "mean    2.130245   1.265455  \n",
      "std     1.007782   1.007782  \n",
      "min     0.225882   0.000000  \n",
      "25%     1.355295   0.522804  \n",
      "50%     2.258824   1.010755  \n",
      "75%     2.710589   1.672974  \n",
      "max     5.872943   4.565825   <class 'pandas.core.frame.DataFrame'>\n"
     ]
    }
   ],
   "source": [
    "print(pd.DataFrame(df_w).describe(), type(df_w)) #Pārbaude vai pēcdatu standartizēšanas std ir vienāda ar 1"
   ]
  },
  {
   "cell_type": "code",
   "execution_count": 258,
   "metadata": {
    "scrolled": true
   },
   "outputs": [],
   "source": [
    "df_w = pd.DataFrame(df_w)\n",
    "\n",
    "# print(df_w, type(df_w))"
   ]
  },
  {
   "cell_type": "markdown",
   "metadata": {},
   "source": [
    "## Visi kopā"
   ]
  },
  {
   "cell_type": "code",
   "execution_count": 238,
   "metadata": {
    "scrolled": true
   },
   "outputs": [
    {
     "data": {
      "image/png": "[encoded data removed]",
      "text/plain": [
       "<Figure size 1800x360 with 1 Axes>"
      ]
     },
     "metadata": {
      "needs_background": "light"
     },
     "output_type": "display_data"
    }
   ],
   "source": [
    "o = df.iloc[:,0] #atlasīta pirmā kolonna kur ir mērījumu nosaukumi\n",
    "o = np.array(o) #pārvērsti mērijumi par np.array formātu\n",
    "\n",
    "plt.figure(figsize=(25, 5))\n",
    "plt.title('Visu paraugu H-Klasteri')\n",
    "# plt.xlabel('sample index')\n",
    "# plt.ylabel('distance')\n",
    "\n",
    "Z = linkage(df_w, method = \"ward\", metric = \"euclidean\")\n",
    "\n",
    "dn = dendrogram(Z, \n",
    "                labels = o, \n",
    "                leaf_font_size=15)\n",
    "\n",
    "\n",
    "plt.show()"
   ]
  },
  {
   "cell_type": "markdown",
   "metadata": {},
   "source": [
    "## Daugavas Lejtece"
   ]
  },
  {
   "cell_type": "code",
   "execution_count": 244,
   "metadata": {},
   "outputs": [
    {
     "data": {
      "image/png": "[encoded data removed]",
      "text/plain": [
       "<Figure size 1800x360 with 1 Axes>"
      ]
     },
     "metadata": {
      "needs_background": "light"
     },
     "output_type": "display_data"
    }
   ],
   "source": [
    "df_daug_lejt = pd.read_excel(\"Keramika_merijumi_jauninajumi.xlsx\", \n",
    "                   sheet_name = 2)\n",
    "\n",
    "list_daug_lejt = df_daug_lejt.iloc[:,0]\n",
    "list_daug_lejt = np.array(list_daug_lejt)\n",
    "\n",
    "df_w_daug_lejt = whiten(df_daug_lejt.loc[:,['SiO2','Al2O3','Fe2O3','K2O','P2O5','MgO','MnO','CaO','Na2O','Cl','TiO','BaO','ZnO','SO3']])\n",
    "\n",
    "plt.figure(figsize=(25, 5))\n",
    "plt.title('Daugavas Lejtece')\n",
    "# plt.xlabel('sample index')\n",
    "# plt.ylabel('distance')\n",
    "\n",
    "Z_daug_lejt = linkage(df_w_daug_lejt, method = \"ward\", metric = \"euclidean\")\n",
    "\n",
    "dn_daug_lejt = dendrogram(Z_daug_lejt,\n",
    "                         labels = list_daug_lejt, \n",
    "                          leaf_font_size=15)\n",
    "\n",
    "plt.show()"
   ]
  },
  {
   "cell_type": "markdown",
   "metadata": {},
   "source": [
    "## Kurzeme"
   ]
  },
  {
   "cell_type": "code",
   "execution_count": 247,
   "metadata": {},
   "outputs": [
    {
     "data": {
      "image/png": "[encoded data removed]",
      "text/plain": [
       "<Figure size 1800x360 with 1 Axes>"
      ]
     },
     "metadata": {
      "needs_background": "light"
     },
     "output_type": "display_data"
    }
   ],
   "source": [
    "df_kurzeme = pd.read_excel(\"Keramika_merijumi_jauninajumi.xlsx\", \n",
    "                   sheet_name = 3)\n",
    "\n",
    "list_kurzeme = df_kurzeme.iloc[:,0]\n",
    "list_kurzeme = np.array(list_kurzeme)\n",
    "\n",
    "df_w_kurzeme = whiten(df_kurzeme.loc[:,['SiO2','Al2O3','Fe2O3','K2O','P2O5','MgO','MnO','CaO','Na2O','Cl','TiO','BaO','ZnO','SO3']])\n",
    "\n",
    "plt.figure(figsize=(25, 5))\n",
    "plt.title('Kurzeme')\n",
    "# plt.xlabel('sample index')\n",
    "# plt.ylabel('distance')\n",
    "\n",
    "Z_kurzeme = linkage(df_w_kurzeme, method = \"ward\", metric = \"euclidean\")\n",
    "\n",
    "dn_kurzeme = dendrogram(Z_kurzeme,\n",
    "                        labels = list_kurzeme, \n",
    "                        leaf_font_size=15)\n",
    "\n",
    "plt.show()"
   ]
  },
  {
   "cell_type": "markdown",
   "metadata": {},
   "source": [
    "## EST_LV_LT"
   ]
  },
  {
   "cell_type": "code",
   "execution_count": 249,
   "metadata": {},
   "outputs": [
    {
     "data": {
      "image/png": "[encoded data removed]",
      "text/plain": [
       "<Figure size 1800x360 with 1 Axes>"
      ]
     },
     "metadata": {
      "needs_background": "light"
     },
     "output_type": "display_data"
    }
   ],
   "source": [
    "df_est_lv_lt = pd.read_excel(\"Keramika_merijumi_jauninajumi.xlsx\", \n",
    "                   sheet_name = 4)\n",
    "\n",
    "list_est_lv_lt = df_est_lv_lt.iloc[:,0]\n",
    "list_est_lv_lt = np.array(list_est_lv_lt)\n",
    "\n",
    "df_w_est_lv_lt = whiten(df_est_lv_lt.loc[:,['SiO2','Al2O3','Fe2O3','K2O','P2O5','MgO','MnO','CaO','Na2O','Cl','TiO','BaO','ZnO','SO3']])\n",
    "\n",
    "plt.figure(figsize=(25, 5))\n",
    "plt.title('EST_LV_LT')\n",
    "# plt.xlabel('sample index')\n",
    "# plt.ylabel('distance')\n",
    "\n",
    "Z_est_lv_lt = linkage(df_w_est_lv_lt, method = \"ward\", metric = \"euclidean\")\n",
    "\n",
    "dn_est_lv_lt = dendrogram(Z_est_lv_lt,\n",
    "                         labels = list_est_lv_lt, \n",
    "                         leaf_font_size=15)\n",
    "\n",
    "plt.show()"
   ]
  },
  {
   "cell_type": "markdown",
   "metadata": {},
   "source": [
    "## Igaunija"
   ]
  },
  {
   "cell_type": "code",
   "execution_count": 250,
   "metadata": {},
   "outputs": [
    {
     "data": {
      "image/png": "[encoded data removed]",
      "text/plain": [
       "<Figure size 1800x360 with 1 Axes>"
      ]
     },
     "metadata": {
      "needs_background": "light"
     },
     "output_type": "display_data"
    }
   ],
   "source": [
    "df_igaunija = pd.read_excel(\"Keramika_merijumi_jauninajumi.xlsx\", \n",
    "                   sheet_name = 5)\n",
    "\n",
    "list_igaunija = df_igaunija.iloc[:,0]\n",
    "list_igaunija = np.array(list_igaunija)\n",
    "\n",
    "df_w_igaunija = whiten(df_igaunija.loc[:,['SiO2','Al2O3','Fe2O3','K2O','P2O5','MgO','MnO','CaO','Na2O','Cl','TiO','BaO','ZnO','SO3']])\n",
    "\n",
    "plt.figure(figsize=(25, 5))\n",
    "plt.title('Igaunija')\n",
    "# plt.xlabel('sample index')\n",
    "# plt.ylabel('distance')\n",
    "\n",
    "Z_igaunija = linkage(df_w_igaunija, method = \"ward\", metric = \"euclidean\")\n",
    "\n",
    "dn_igaunija = dendrogram(Z_igaunija,\n",
    "                         labels = list_igaunija, \n",
    "                         leaf_font_size=15)\n",
    "\n",
    "plt.show()"
   ]
  },
  {
   "cell_type": "markdown",
   "metadata": {},
   "source": [
    "## Velna Laivas"
   ]
  },
  {
   "cell_type": "code",
   "execution_count": 251,
   "metadata": {},
   "outputs": [
    {
     "data": {
      "image/png": "[encoded data removed]",
      "text/plain": [
       "<Figure size 1800x360 with 1 Axes>"
      ]
     },
     "metadata": {
      "needs_background": "light"
     },
     "output_type": "display_data"
    }
   ],
   "source": [
    "df_velna_laivas = pd.read_excel(\"Keramika_merijumi_jauninajumi.xlsx\", \n",
    "                   sheet_name = 6)\n",
    "\n",
    "list_velna_laivas = df_velna_laivas.iloc[:,0]\n",
    "list_velna_laivas = np.array(list_velna_laivas)\n",
    "\n",
    "df_w_velna_laivas = whiten(df_velna_laivas.loc[:,['SiO2','Al2O3','Fe2O3','K2O','P2O5','MgO','MnO','CaO','Na2O','Cl','TiO','BaO','ZnO','SO3']])\n",
    "\n",
    "plt.figure(figsize=(25, 5))\n",
    "plt.title('Velna Laivas')\n",
    "# plt.xlabel('sample index')\n",
    "# plt.ylabel('distance')\n",
    "\n",
    "Z_velna_laivas = linkage(df_w_velna_laivas, method = \"ward\", metric = \"euclidean\")\n",
    "\n",
    "dn_velna_laivas = dendrogram(Z_velna_laivas,\n",
    "                             labels = list_velna_laivas, \n",
    "                             leaf_font_size=15)\n",
    "\n",
    "plt.show()"
   ]
  },
  {
   "cell_type": "markdown",
   "metadata": {},
   "source": [
    "### Metožu salīdzinājums pie visiem paraugiem"
   ]
  },
  {
   "cell_type": "markdown",
   "metadata": {},
   "source": [
    "Note: Es pagaidām noņēmu šīm funkcijām output, bet nu pēc nevienām citām klasteru metodēm neas jēdzīgs negrupējās."
   ]
  },
  {
   "cell_type": "code",
   "execution_count": null,
   "metadata": {},
   "outputs": [],
   "source": [
    "Z1 = linkage(df_w, method = \"centroid\", metric = \"euclidean\")\n",
    "dn = dendrogram(Z1)\n",
    "plt.show()"
   ]
  },
  {
   "cell_type": "code",
   "execution_count": null,
   "metadata": {},
   "outputs": [],
   "source": [
    "Z2 = linkage(df_w, method = \"median\", metric = \"euclidean\")\n",
    "dn = dendrogram(Z2)\n",
    "plt.show()"
   ]
  },
  {
   "cell_type": "code",
   "execution_count": null,
   "metadata": {},
   "outputs": [],
   "source": [
    "Z3 = linkage(df_w, method = \"single\", metric = \"euclidean\")\n",
    "dn = dendrogram(Z3)\n",
    "plt.show()"
   ]
  },
  {
   "cell_type": "code",
   "execution_count": null,
   "metadata": {},
   "outputs": [],
   "source": [
    "Z4 = linkage(df_w, method = \"complete\", metric = \"euclidean\")\n",
    "dn = dendrogram(Z4)\n",
    "plt.show()"
   ]
  },
  {
   "cell_type": "code",
   "execution_count": null,
   "metadata": {},
   "outputs": [],
   "source": [
    "Z5 = linkage(df_w, method = \"average\", metric = \"euclidean\")\n",
    "dn = dendrogram(Z5)\n",
    "plt.show()"
   ]
  },
  {
   "cell_type": "code",
   "execution_count": null,
   "metadata": {},
   "outputs": [],
   "source": [
    "Z6 = linkage(df_w, method = \"weighted\", metric = \"euclidean\")\n",
    "dn = dendrogram(Z6)\n",
    "plt.show()"
   ]
  },
  {
   "cell_type": "markdown",
   "metadata": {},
   "source": [
    "### Misc"
   ]
  },
  {
   "cell_type": "code",
   "execution_count": null,
   "metadata": {},
   "outputs": [],
   "source": [
    "#Kods priekš tā lai noteiktu kura klasteru metode visprecīzāk iedala mērījumus, ja mums jau iepriekš būtu zināms iedalījums.\n",
    "#Reference: https://youtu.be/JcfIeaGzF8A\n",
    "\n",
    "# k = 2\n",
    "# Hclustering = AgglomerativeClustering(n_clusters = k, affinity = \"euclidean\", linkage = \"ward\")\n",
    "\n",
    "# Hclustering.fit(df_w[[0,1]])\n",
    "# sm.accuracy_score(y, Hclustering.labels_)"
   ]
  }
 ],
 "metadata": {
  "kernelspec": {
   "display_name": "Python 3",
   "language": "python",
   "name": "python3"
  },
  "language_info": {
   "codemirror_mode": {
    "name": "ipython",
    "version": 3
   },
   "file_extension": ".py",
   "mimetype": "text/x-python",
   "name": "python",
   "nbconvert_exporter": "python",
   "pygments_lexer": "ipython3",
   "version": "3.7.6"
  }
 },
 "nbformat": 4,
 "nbformat_minor": 4
}
